{
 "cells": [
  {
   "cell_type": "code",
   "execution_count": 2,
   "metadata": {},
   "outputs": [
    {
     "name": "stdout",
     "output_type": "stream",
     "text": [
      "1.12.0\n"
     ]
    }
   ],
   "source": [
    "from __future__ import absolute_import, division, print_function\n",
    "\n",
    "import tensorflow as tf\n",
    "from tensorflow import keras\n",
    "import pandas as pd\n",
    "import numpy as np\n",
    "from random import choices\n",
    "rng = np.random\n",
    "from matplotlib import pyplot as plt\n",
    "import tensorflow as tf\n",
    "from sklearn import metrics\n",
    "from sklearn.metrics import roc_auc_score\n",
    "from sklearn.metrics import roc_curve, auc\n",
    "from matplotlib import pyplot as plt\n",
    "from sklearn.preprocessing import label_binarize\n",
    "import itertools\n",
    "from scipy import interp\n",
    "from scipy.stats import mode\n",
    "print(tf.__version__)\n",
    "import time\n",
    "from sklearn.preprocessing import scale"
   ]
  },
  {
   "cell_type": "code",
   "execution_count": 4,
   "metadata": {},
   "outputs": [],
   "source": [
    "# Read in data from small csv to a dataframe\n",
    "df1=pd.read_csv('./../../../Assignment_2/Data_Files/Cancer_clean.csv', sep=',')\n"
   ]
  },
  {
   "cell_type": "code",
   "execution_count": 7,
   "metadata": {},
   "outputs": [
    {
     "name": "stdout",
     "output_type": "stream",
     "text": [
      "Index(['texture1', 'area1', 'smoothness1', 'compactness1', 'concave points1',\n",
      "       'symmetry1', 'fractal_dimension1', 'texture2', 'area2', 'smoothness2',\n",
      "       'compactness2', 'concavity2', 'concave points2', 'symmetry2',\n",
      "       'fractal_dimension2', 'smoothness3', 'compactness3', 'concavity3',\n",
      "       'concave points3', 'symmetry3', 'fractal_dimension3'],\n",
      "      dtype='object')\n",
      "train: 0.7% | validation: 0.2% | test 0.1%\n"
     ]
    }
   ],
   "source": [
    "y = df1['Diagnosis']\n",
    "X=df1.drop(['ID_number', 'Diagnosis'], axis=1)\n",
    "print(X.columns)\n",
    "y_new = np.zeros((len(y), 2))\n",
    "for i in range(0, len(y)):\n",
    "    elem = y[i]\n",
    "    arr = [0,0]\n",
    "    arr[elem] = 1\n",
    "    y_new[i] = arr\n",
    "\n",
    "num = len(df1)\n",
    "indices = list(range(num))\n",
    "split = int(max(indices)*0.1)\n",
    "\n",
    "test_idx = np.random.choice(indices, size=split, replace=False)\n",
    "\n",
    "inter_idx = list(set(indices) - set(test_idx))\n",
    "\n",
    "num = len(inter_idx)\n",
    "indices = list(range(num))\n",
    "split = int(max(indices)*0.22)\n",
    "\n",
    "valid_idx = np.random.choice(inter_idx, size=split, replace=False)\n",
    "train_idx = list(set(inter_idx) - set(valid_idx))\n",
    "\n",
    "x_train = np.array(X.loc[train_idx,:], dtype=np.float32)\n",
    "# x_train = x_train.reshape(-1, 1)\n",
    "\n",
    "y_train = np.array(y[train_idx], dtype=np.float32)\n",
    "y_new_train = np.array(y_new[train_idx], dtype=np.float32)\n",
    "# y_train = y_train.reshape(-1, 1)\n",
    "\n",
    "x_valid = np.array(X.loc[valid_idx,:], dtype=np.float32)\n",
    "# x_valid = x_valid.reshape(-1, 1)\n",
    "\n",
    "y_valid = np.array(y[valid_idx], dtype=np.float32)\n",
    "y_new_valid = np.array(y_new[valid_idx], dtype=np.float32)\n",
    "# y_valid = y_valid.reshape(-1, 1)\n",
    "\n",
    "x_test = np.array(X.loc[test_idx,:], dtype=np.float32)\n",
    "# x_test = x_test.reshape(-1, 1)\n",
    "\n",
    "y_test = np.array(y[test_idx], dtype=np.float32)\n",
    "y_new_test = np.array(y_new[test_idx], dtype=np.float32)\n",
    "# y_test = y_test.reshape(-1, 1)\n",
    "\n",
    "\n",
    "print('train: {}% | validation: {}% | test {}%'.format(round(len(y_train)/len(df1),2),\n",
    "                                                       round(len(y_valid)/len(df1),2),\n",
    "                                                       round(len(y_test)/len(df1),2)))"
   ]
  },
  {
   "cell_type": "code",
   "execution_count": 4,
   "metadata": {},
   "outputs": [
    {
     "name": "stderr",
     "output_type": "stream",
     "text": [
      "/anaconda3/lib/python3.6/site-packages/ipykernel_launcher.py:9: DeprecationWarning: In future, it will be an error for 'np.bool_' scalars to be interpreted as an index\n",
      "  if __name__ == '__main__':\n"
     ]
    },
    {
     "name": "stdout",
     "output_type": "stream",
     "text": [
      "train: 0.7% | validation: 0.2% | test 0.1%\n"
     ]
    }
   ],
   "source": []
  },
  {
   "cell_type": "code",
   "execution_count": 8,
   "metadata": {},
   "outputs": [],
   "source": [
    "\n",
    "\n",
    "\n",
    "# Declare feature for model and hyperparameter\n",
    "batch_size = 1000\n",
    "W = tf.Variable(tf.zeros([21, 2]))\n",
    "b = tf.Variable(tf.zeros([2]))\n",
    "\n",
    "init = tf.global_variables_initializer()\n",
    "sess = tf.Session()\n",
    "sess.run(init)\n",
    "# Variable for model\n",
    "data = tf.placeholder(dtype=tf.float32, shape=[None, 21])\n",
    "target = tf.placeholder(dtype=tf.float32, shape=[None, 2])\n",
    "\n",
    "mod = tf.nn.softmax(tf.matmul(data, W) + b)\n",
    "loss = loss = tf.reduce_mean(tf.nn.softmax_cross_entropy_with_logits_v2(logits=mod, labels=target))\n",
    "\n",
    "learning_rate = 0.01\n",
    "\n",
    "iter_num = 10000\n",
    "opt = tf.train.GradientDescentOptimizer(learning_rate)\n",
    "\n",
    "goal = opt.minimize(loss)\n",
    "\n",
    "prediction = tf.round(mod)\n",
    "correct = tf.cast(tf.equal(prediction, target), dtype=tf.float32)\n",
    "accuracy =  tf.reduce_mean(correct)"
   ]
  },
  {
   "cell_type": "code",
   "execution_count": 9,
   "metadata": {},
   "outputs": [
    {
     "name": "stdout",
     "output_type": "stream",
     "text": [
      "34.908231 seconds\n"
     ]
    }
   ],
   "source": [
    "loss_trace = []\n",
    "train_acc = []\n",
    "test_acc = []\n",
    "# training model\n",
    "\n",
    "start_time = time.clock()\n",
    "for epoch in range(iter_num):\n",
    "    # Generate random batch index\n",
    "    batch_index = np.random.choice(len(x_train), size=batch_size)\n",
    "    batch_train_X = x_train[batch_index]\n",
    "    batch_train_y = y_new_train[batch_index]\n",
    "    sess.run(goal, feed_dict={data: batch_train_X, target: batch_train_y})\n",
    "    temp_loss = sess.run(loss, feed_dict={data: batch_train_X, target: batch_train_y})\n",
    "    # convert into a matrix, and the shape of the placeholder to correspond\n",
    "    # temp_train_acc = sess.run(accuracy, feed_dict={data: x_train, target: y_new_train})\n",
    "    # temp_test_acc = sess.run(accuracy, feed_dict={data: x_valid, target: y_new_valid})\n",
    "    # recode the resultx\n",
    "    # loss_trace.append(temp_loss)\n",
    "    # train_acc.append(temp_train_acc)\n",
    "    # test_acc.append(temp_test_acc)\n",
    "\n",
    "    #if (epoch + 1) % 300 == 0:\n",
    "        #print('epoch: {:4d} loss: {:5f} train_acc: {:5f} test_acc: {:5f}'.format(epoch + 1, temp_loss,\n",
    "                                                                          #temp_train_acc, temp_test_acc))\n",
    "print (time.clock() - start_time, \"seconds\")"
   ]
  },
  {
   "cell_type": "code",
   "execution_count": 17,
   "metadata": {},
   "outputs": [
    {
     "data": {
      "image/png": "[encoded data removed]",
      "text/plain": [
       "<Figure size 720x576 with 2 Axes>"
      ]
     },
     "metadata": {
      "needs_background": "light"
     },
     "output_type": "display_data"
    }
   ],
   "source": [
    "# Confusion Matrix\n",
    "feed_dict = {data: x_valid}\n",
    "# print(y_valid)\n",
    "#print(X)\n",
    "predictions = sess.run(tf.argmax(mod, -1), feed_dict=feed_dict)\n",
    "\n",
    "# Confusion Matrix\n",
    "cm = metrics.confusion_matrix(y_valid, predictions)\n",
    "plt.figure(figsize=(10,8))\n",
    "plt.imshow(cm, interpolation='nearest', cmap='Pastel1')\n",
    "plt.title('Confusion Matrix TensorFlow Validation Data Small Dataset', size = 12)\n",
    "plt.colorbar()\n",
    "tick_marks = np.arange(2)\n",
    "plt.xticks(tick_marks, [\"Positive\", \"Negative\"], size = 12)\n",
    "plt.yticks(tick_marks, [\"Positive\", \"Negative\"], size = 12)\n",
    "plt.tight_layout()\n",
    "plt.ylabel('Actual label', size = 12)\n",
    "plt.xlabel('Predicted label', size = 12)\n",
    "width, height = cm.shape\n",
    "for x in range(width):\n",
    " for y in range(height):\n",
    "  plt.annotate(str(cm[x][y]), xy=(y, x), \n",
    "  horizontalalignment='center',\n",
    "  verticalalignment='center')\n",
    "\n",
    "plt.subplots_adjust(top=0.9, bottom=0.1, left=0.125, right=0.9, hspace=0.7 ,wspace=0.5)\n",
    "plt.savefig('Logistic_Regression_Validation_Confusion_Small_TF.png',pdi=600)"
   ]
  },
  {
   "cell_type": "code",
   "execution_count": 11,
   "metadata": {},
   "outputs": [
    {
     "name": "stdout",
     "output_type": "stream",
     "text": [
      "Score of validation model:  0.9732142857142857\n",
      "Error rate of validation model:  0.0267857142857143\n",
      "Recall / TPR of validation model:  0.9863013698630136\n",
      "FNR of validation model:  0.013698630136986356\n",
      "Specificity / TNR of validation model:  0.9487179487179487\n",
      "FPR of validation model:  0.05128205128205128\n"
     ]
    }
   ],
   "source": [
    "accuracy=sum(predictions==y_valid)/len(predictions)\n",
    "\n",
    "ERR=1-accuracy\n",
    "Recall = (cm[0,0])/(np.sum(cm,axis=1)[0])\n",
    "FPR=(cm[1,0])/(np.sum(cm,axis=1)[1])\n",
    "Specificity=1-FPR\n",
    "FNR=1-Recall\n",
    "\n",
    "print('Score of validation model: ',accuracy)\n",
    "print('Error rate of validation model: ',ERR)\n",
    "print('Recall / TPR of validation model: ',Recall)\n",
    "print('FNR of validation model: ',FNR)\n",
    "print('Specificity / TNR of validation model: ',Specificity)\n",
    "print('FPR of validation model: ',FPR)"
   ]
  },
  {
   "cell_type": "code",
   "execution_count": 12,
   "metadata": {},
   "outputs": [
    {
     "name": "stdout",
     "output_type": "stream",
     "text": [
      "AUC of validation model 0.9675096592904812\n"
     ]
    },
    {
     "data": {
      "image/png": "[encoded data removed]",
      "text/plain": [
       "<Figure size 432x432 with 1 Axes>"
      ]
     },
     "metadata": {
      "needs_background": "light"
     },
     "output_type": "display_data"
    }
   ],
   "source": [
    "### calculate ROC Score\n",
    "print(\"AUC of validation model\",roc_auc_score(y_valid, predictions))\n",
    "fpr, tpr, _ = metrics.roc_curve(y_valid, predictions)\n",
    "\n",
    "fig, ax1=plt.subplots(figsize=(6,6))\n",
    "x1 = [0, 0]\n",
    "x2 = [0,1]\n",
    "y1=[0,1]\n",
    "y2=[1,1]\n",
    "ax1.plot(x1, y1, 'red')\n",
    "ax1.plot(x2, y2, 'red')\n",
    "ax1.plot(x2, y1, 'grey',linestyle='--')\n",
    "\n",
    "ax1.set_xlabel('False Positive Rate')\n",
    "ax1.set_ylabel('True Positive Rate')\n",
    "ax1.set_title('ROC Curve TensorFlow Validation Data Small Dataset')\n",
    "ax1.plot(fpr,tpr,color='Black',linewidth=2,label='ROC Curve')\n",
    "\n",
    "textstr = 'AUC of validation model= $%.2f$'%(roc_auc_score(y_valid, predictions))\n",
    "ax1.text(0.5,0,textstr)\n",
    "\n",
    "fig.subplots_adjust(top=0.9, bottom=0.1, left=0.125, right=0.9, hspace=0.7 ,wspace=0.5)\n",
    "fig.savefig('Logistic_Regression_Validation_ROC_Small_TF.png',pdi=600)"
   ]
  },
  {
   "cell_type": "code",
   "execution_count": 13,
   "metadata": {},
   "outputs": [],
   "source": [
    "# Confusion Matrix\n",
    "feed_dict = {data: x_test}\n",
    "# print(y_valid)\n",
    "#print(X)\n",
    "predictions_test = sess.run(tf.argmax(mod, -1), feed_dict=feed_dict)\n",
    "\n"
   ]
  },
  {
   "cell_type": "code",
   "execution_count": 14,
   "metadata": {},
   "outputs": [
    {
     "data": {
      "image/png": "[encoded data removed]",
      "text/plain": [
       "<Figure size 720x576 with 2 Axes>"
      ]
     },
     "metadata": {
      "needs_background": "light"
     },
     "output_type": "display_data"
    }
   ],
   "source": [
    "# Confusion Matrix\n",
    "cm2 = metrics.confusion_matrix(y_test, predictions_test)\n",
    "plt.figure(figsize=(10,8))\n",
    "plt.imshow(cm2, interpolation='nearest', cmap='Pastel1')\n",
    "plt.title('Confusion Matrix TensorFlow Test Data Small Dataset', size = 12)\n",
    "plt.colorbar()\n",
    "tick_marks = np.arange(2)\n",
    "plt.xticks(tick_marks, [\"Clear\", \"Heavy Cloud\"], size = 12)\n",
    "plt.yticks(tick_marks, [\"Clear\", \"Heavy Cloud\"], size = 12)\n",
    "plt.tight_layout()\n",
    "plt.ylabel('Actual label', size = 12)\n",
    "plt.xlabel('Predicted label', size = 12)\n",
    "width, height = cm2.shape\n",
    "for x in range(width):\n",
    " for y in range(height):\n",
    "  plt.annotate(str(cm2[x][y]), xy=(y, x), \n",
    "  horizontalalignment='center',\n",
    "  verticalalignment='center')\n",
    "\n",
    "plt.subplots_adjust(top=0.9, bottom=0.1, left=0.125, right=0.9, hspace=0.7 ,wspace=0.5)\n",
    "plt.savefig('Logistic_Regression_Test_Confusion_Small_TF.png',pdi=600)"
   ]
  },
  {
   "cell_type": "code",
   "execution_count": 15,
   "metadata": {},
   "outputs": [
    {
     "name": "stdout",
     "output_type": "stream",
     "text": [
      "Score of test model:  0.9821428571428571\n",
      "Error rate of test model:  0.017857142857142905\n",
      "Recall / TPR of test model:  1.0\n",
      "FNR of test model:  0.0\n",
      "Specificity / TNR of test model:  0.95\n",
      "FPR of test model:  0.05\n"
     ]
    }
   ],
   "source": [
    "accuracy=sum(predictions_test==y_test)/len(predictions_test)\n",
    "ERR=1-accuracy\n",
    "\n",
    "FPR=(cm2[1,0])/(np.sum(cm2,axis=1)[1])\n",
    "Specificity=1-FPR\n",
    "Recall = (cm2[0,0])/(np.sum(cm2,axis=1)[0])\n",
    "FNR=1-Recall\n",
    "\n",
    "print('Score of test model: ',accuracy)\n",
    "print('Error rate of test model: ',ERR)\n",
    "print('Recall / TPR of test model: ',Recall)\n",
    "print('FNR of test model: ',FNR)\n",
    "print('Specificity / TNR of test model: ',Specificity)\n",
    "print('FPR of test model: ',FPR)"
   ]
  },
  {
   "cell_type": "code",
   "execution_count": 16,
   "metadata": {},
   "outputs": [
    {
     "name": "stdout",
     "output_type": "stream",
     "text": [
      "AUC of validation model 0.975\n"
     ]
    },
    {
     "data": {
      "image/png": "[encoded data removed]",
      "text/plain": [
       "<Figure size 432x432 with 1 Axes>"
      ]
     },
     "metadata": {
      "needs_background": "light"
     },
     "output_type": "display_data"
    }
   ],
   "source": [
    "### calculate ROC Score\n",
    "print(\"AUC of validation model\",roc_auc_score(y_test, predictions_test))\n",
    "fpr, tpr, _ = metrics.roc_curve(y_test, predictions_test)\n",
    "\n",
    "fig, ax1=plt.subplots(figsize=(6,6))\n",
    "x1 = [0, 0]\n",
    "x2 = [0,1]\n",
    "y1=[0,1]\n",
    "y2=[1,1]\n",
    "ax1.plot(x1, y1, 'red')\n",
    "ax1.plot(x2, y2, 'red')\n",
    "ax1.plot(x2, y1, 'grey',linestyle='--')\n",
    "\n",
    "ax1.set_xlabel('False Positive Rate')\n",
    "ax1.set_ylabel('True Positive Rate')\n",
    "ax1.set_title('ROC Curve TensorFlow Test Data Small Dataset')\n",
    "ax1.plot(fpr,tpr,color='Black',linewidth=2,label='ROC Curve')\n",
    "\n",
    "textstr = 'AUC of validation model= $%.2f$'%(roc_auc_score(y_test, predictions_test))\n",
    "ax1.text(0.5,0,textstr)\n",
    "\n",
    "fig.subplots_adjust(top=0.9, bottom=0.1, left=0.125, right=0.9, hspace=0.7 ,wspace=0.5)\n",
    "fig.savefig('Logistic_Regression_Test_ROC_Small_TF.png',pdi=600)"
   ]
  }
 ],
 "metadata": {
  "kernelspec": {
   "display_name": "Python 3",
   "language": "python",
   "name": "python3"
  },
  "language_info": {
   "codemirror_mode": {
    "name": "ipython",
    "version": 3
   },
   "file_extension": ".py",
   "mimetype": "text/x-python",
   "name": "python",
   "nbconvert_exporter": "python",
   "pygments_lexer": "ipython3",
   "version": "3.6.7"
  }
 },
 "nbformat": 4,
 "nbformat_minor": 2
}
